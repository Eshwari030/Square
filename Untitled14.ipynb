{
  "nbformat": 4,
  "nbformat_minor": 0,
  "metadata": {
    "colab": {
      "provenance": []
    },
    "kernelspec": {
      "name": "python3",
      "display_name": "Python 3"
    },
    "language_info": {
      "name": "python"
    }
  },
  "cells": [
    {
      "cell_type": "code",
      "execution_count": 1,
      "metadata": {
        "colab": {
          "base_uri": "https://localhost:8080/"
        },
        "id": "jpkHdw8owquM",
        "outputId": "b202c590-d3aa-4e9a-fc91-0f16c624a142"
      },
      "outputs": [
        {
          "output_type": "stream",
          "name": "stdout",
          "text": [
            "0\n",
            "1\n",
            "2\n",
            "3\n",
            "4\n"
          ]
        }
      ],
      "source": [
        "# Q1.  Explain with an example each when to use a for loop and a while loop\n",
        "for i in range(0,5):\n",
        "    print(i)"
      ]
    },
    {
      "cell_type": "code",
      "source": [
        "t=0\n",
        "i=5\n",
        "while (i>0):\n",
        "    print(i)\n",
        "    i=i-1"
      ],
      "metadata": {
        "colab": {
          "base_uri": "https://localhost:8080/"
        },
        "id": "lS35ScaZwuBc",
        "outputId": "3f13d355-db4e-4a96-ff57-4410e331eb19"
      },
      "execution_count": 2,
      "outputs": [
        {
          "output_type": "stream",
          "name": "stdout",
          "text": [
            "5\n",
            "4\n",
            "3\n",
            "2\n",
            "1\n"
          ]
        }
      ]
    },
    {
      "cell_type": "code",
      "source": [
        "# Q2.  Write a python program to print the sum and product of the first 10 natural numbers using for and while loop\n",
        "sum=0\n",
        "product=1\n",
        "for i in range(1,11):\n",
        "    sum=sum+i\n",
        "    product=product*i\n",
        "print(sum,product)\n",
        "\n",
        ""
      ],
      "metadata": {
        "colab": {
          "base_uri": "https://localhost:8080/"
        },
        "id": "Ax4kOTVEwxnK",
        "outputId": "6d81069a-367d-48e1-f971-5908445e1d4e"
      },
      "execution_count": 3,
      "outputs": [
        {
          "output_type": "stream",
          "name": "stdout",
          "text": [
            "55 3628800\n"
          ]
        }
      ]
    },
    {
      "cell_type": "code",
      "source": [
        "sum=0\n",
        "product=1\n",
        "i=1\n",
        "while (i<11):\n",
        "    sum=sum+i\n",
        "    product=product*i\n",
        "    i=i+1\n",
        "print(sum,product)"
      ],
      "metadata": {
        "colab": {
          "base_uri": "https://localhost:8080/"
        },
        "id": "FePJcOajw0eb",
        "outputId": "47c540c4-7d28-412b-93fb-17dc3ac3303e"
      },
      "execution_count": 4,
      "outputs": [
        {
          "output_type": "stream",
          "name": "stdout",
          "text": [
            "55 3628800\n"
          ]
        }
      ]
    },
    {
      "cell_type": "code",
      "source": [
        "#4\n",
        "def electricity(units):\n",
        "    if (units<=100):\n",
        "        return (4.5*units)\n",
        "    elif (units<=200) :\n",
        "        return (450+6*(units-100))\n",
        "    elif (units<=300) :\n",
        "        return (450+600+10*(units-200))\n",
        "    else:\n",
        "        return (450+600+1000+20*(units-300))\n",
        ""
      ],
      "metadata": {
        "id": "QEFL9TDGw3Rr"
      },
      "execution_count": 5,
      "outputs": []
    },
    {
      "cell_type": "code",
      "source": [
        "list=[]\n",
        "for i in range(1,101):\n",
        "    if i%4==0 or i%5==0:\n",
        "        list.append(i)\n",
        "print(list)"
      ],
      "metadata": {
        "colab": {
          "base_uri": "https://localhost:8080/"
        },
        "id": "E-dgepvhw8aS",
        "outputId": "51cf78e0-c67b-460d-cf11-7e3366e9c094"
      },
      "execution_count": 6,
      "outputs": [
        {
          "output_type": "stream",
          "name": "stdout",
          "text": [
            "[4, 5, 8, 10, 12, 15, 16, 20, 24, 25, 28, 30, 32, 35, 36, 40, 44, 45, 48, 50, 52, 55, 56, 60, 64, 65, 68, 70, 72, 75, 76, 80, 84, 85, 88, 90, 92, 95, 96, 100]\n"
          ]
        }
      ]
    },
    {
      "cell_type": "code",
      "source": [
        "list=[]\n",
        "i=1\n",
        "while (i<101):\n",
        "    if i%4==0 or i%5==0:\n",
        "        list.append(i)\n",
        "    i=i+1\n",
        "print(list)"
      ],
      "metadata": {
        "colab": {
          "base_uri": "https://localhost:8080/"
        },
        "id": "SPSdPpKww_46",
        "outputId": "44e106c6-a9ca-4b84-a0a9-be8d205c1aaa"
      },
      "execution_count": 7,
      "outputs": [
        {
          "output_type": "stream",
          "name": "stdout",
          "text": [
            "[4, 5, 8, 10, 12, 15, 16, 20, 24, 25, 28, 30, 32, 35, 36, 40, 44, 45, 48, 50, 52, 55, 56, 60, 64, 65, 68, 70, 72, 75, 76, 80, 84, 85, 88, 90, 92, 95, 96, 100]\n"
          ]
        }
      ]
    },
    {
      "cell_type": "code",
      "source": [
        "string = \"I want to become a data scientist\"\n",
        "s=string.lower()\n",
        "v=['a','e','i','o','u']\n",
        "sum=0\n",
        "for i in s:\n",
        "    for j in v:\n",
        "        if i==j:\n",
        "            sum=sum+1\n",
        "print(sum)"
      ],
      "metadata": {
        "colab": {
          "base_uri": "https://localhost:8080/"
        },
        "id": "gh09PSlixB16",
        "outputId": "e7155e21-be3d-4c59-8ccb-07746d192e89"
      },
      "execution_count": 8,
      "outputs": [
        {
          "output_type": "stream",
          "name": "stdout",
          "text": [
            "12\n"
          ]
        }
      ]
    },
    {
      "cell_type": "code",
      "source": [],
      "metadata": {
        "id": "8QM27X4axFPy"
      },
      "execution_count": null,
      "outputs": []
    }
  ]
}